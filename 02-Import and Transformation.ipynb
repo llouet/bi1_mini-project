{
 "cells": [
  {
   "cell_type": "markdown",
   "id": "fdd28201",
   "metadata": {},
   "source": [
    "#### BI1 Mini-Project: UOL_Bibliography"
   ]
  },
  {
   "cell_type": "code",
   "execution_count": 1,
   "id": "a9b3e8ca",
   "metadata": {},
   "outputs": [],
   "source": [
    "import pandas as pd\n",
    "import os\n",
    "import glob\n",
    "import numpy as np\n",
    "import re"
   ]
  },
  {
   "cell_type": "code",
   "execution_count": 2,
   "id": "16120d33",
   "metadata": {},
   "outputs": [],
   "source": [
    "path = os.getcwd()\n",
    "csv_files = glob.glob(os.path.join(path, \"Data/uol-bibliography-data-2008-2017-raw/\", \"*.csv\"))"
   ]
  },
  {
   "cell_type": "code",
   "execution_count": 3,
   "id": "a1c6beaf",
   "metadata": {},
   "outputs": [],
   "source": [
    "df = pd.core.frame.DataFrame(\n",
    "    {\n",
    "        \n",
    "    })"
   ]
  },
  {
   "cell_type": "code",
   "execution_count": 4,
   "id": "a9b1439d",
   "metadata": {},
   "outputs": [],
   "source": [
    "for f in csv_files:\n",
    "    tmp = pd.read_csv(f)\n",
    "    try:\n",
    "        tmp = tmp.assign(Faculty = len(tmp)*re.findall('Fakultt ([1-9])',f))\n",
    "    except:\n",
    "        tmp = tmp.assign(Faculty = len(tmp)*[np.nan])\n",
    "    if tmp['Fach'][0].startswith('%') == False:\n",
    "        df = pd.concat([df,tmp],ignore_index=True)"
   ]
  },
  {
   "cell_type": "code",
   "execution_count": 5,
   "id": "e0f785f9",
   "metadata": {},
   "outputs": [],
   "source": [
    "df[['lastname', 'firstname']] = df['Autor/in'].str.split(', ', 1, expand=True)\n",
    "df[['title', 'pages']] = df['Titel'].str.split(' \\(', 1, expand=True)\n",
    "df[['pages']] = df.pages.str.extract('(\\d+)')"
   ]
  },
  {
   "cell_type": "code",
   "execution_count": 6,
   "id": "ca86433a",
   "metadata": {},
   "outputs": [],
   "source": [
    "df = df.drop(['Autor/in','Titel'],axis=1)"
   ]
  },
  {
   "cell_type": "code",
   "execution_count": 7,
   "id": "78e1affd",
   "metadata": {},
   "outputs": [],
   "source": [
    "df = df.rename(columns={\"Fach\": \"institute\",'Typ':'type', 'Meldetag':'date', 'Punktzahl':'points', ' ZahlOldenburgerAutoren':'num_authors', 'Jahr':'year', 'Faculty':'faculty'})"
   ]
  },
  {
   "cell_type": "code",
   "execution_count": 8,
   "id": "3d6056b1",
   "metadata": {},
   "outputs": [],
   "source": [
    "df.to_csv('Data/full_data.csv',index=False)"
   ]
  },
  {
   "cell_type": "code",
   "execution_count": 9,
   "id": "558163e8",
   "metadata": {
    "scrolled": true
   },
   "outputs": [],
   "source": [
    "tmp = pd.read_json('Data/citations-db.json')\n",
    "cit = pd.DataFrame(data = {'title': tmp.columns.values.tolist(), 'citations': tmp.iloc[0].values.astype(str)})\n",
    "cit[['citations']] = cit.citations.str.extract('(\\d+)')"
   ]
  },
  {
   "cell_type": "code",
   "execution_count": 10,
   "id": "dfe15580",
   "metadata": {},
   "outputs": [],
   "source": [
    "final = pd.merge(df,cit,on = 'title',how='left')"
   ]
  },
  {
   "cell_type": "code",
   "execution_count": 98,
   "id": "e0fa6555",
   "metadata": {},
   "outputs": [],
   "source": [
    "final.to_csv('Data/230116_full_data.csv',index=False)"
   ]
  },
  {
   "cell_type": "code",
   "execution_count": 9,
   "id": "add2b3d9",
   "metadata": {},
   "outputs": [
    {
     "data": {
      "text/plain": [
       "0        False\n",
       "1        False\n",
       "2        False\n",
       "3        False\n",
       "4        False\n",
       "         ...  \n",
       "56871    False\n",
       "56872    False\n",
       "56873    False\n",
       "56874    False\n",
       "56875    False\n",
       "Name: institute, Length: 56876, dtype: bool"
      ]
     },
     "execution_count": 9,
     "metadata": {},
     "output_type": "execute_result"
    }
   ],
   "source": [
    "final = pd.read_csv('Data/230116_full_data.csv')"
   ]
  },
  {
   "cell_type": "code",
   "execution_count": 11,
   "id": "a37a2165",
   "metadata": {},
   "outputs": [],
   "source": [
    "years = pd.DataFrame(data={'year': final.year}).drop_duplicates()\n",
    "years = years.sort_values('year')\n",
    "years = pd.DataFrame(data={'yID': range(1,len(years)+1),'year': years.year})\n",
    "years = years.reset_index(drop=True)"
   ]
  },
  {
   "cell_type": "code",
   "execution_count": 25,
   "id": "3c4a75ff",
   "metadata": {},
   "outputs": [],
   "source": [
    "final['date'] = pd.to_datetime(final['date'])\n",
    "dates = pd.DataFrame(data={'dateID': range(1,11654),\n",
    "                           'date': pd.date_range(pd.to_datetime(min(final['date'])),\n",
    "                                                 pd.to_datetime(max(final['date']) + pd.Timedelta(1, unit='D')))})\n",
    "dates['week'] = dates['date'].dt.isocalendar().week\n",
    "dates['year'] = pd.DatetimeIndex(dates['date']).year\n",
    "dates['month'] = pd.DatetimeIndex(dates['date']).month"
   ]
  },
  {
   "cell_type": "code",
   "execution_count": 13,
   "id": "171e1855",
   "metadata": {},
   "outputs": [],
   "source": [
    "departments = pd.DataFrame(data={'department': final.institute, 'faculty': final.faculty}).drop_duplicates()\n",
    "departments = departments.sort_values('department')\n",
    "departments = pd.DataFrame(data={'depID': range(1,len(departments)+1), 'department': departments.department, \n",
    "                                 'faculty': departments.faculty})\n",
    "departments = departments.reset_index(drop=True)"
   ]
  },
  {
   "cell_type": "code",
   "execution_count": 14,
   "id": "59c9dd91",
   "metadata": {},
   "outputs": [],
   "source": [
    "authors = pd.DataFrame(data={'lastname': final.lastname, 'firstname': final.firstname}).drop_duplicates()\n",
    "authors = authors.sort_values(['lastname','firstname'])\n",
    "authors = pd.DataFrame(data={'aID': range(1,len(authors)+1), 'lastname': authors.lastname, \n",
    "                             'firstname': authors.firstname})\n",
    "authors = authors.reset_index(drop=True)"
   ]
  },
  {
   "cell_type": "code",
   "execution_count": 151,
   "id": "0b22d148",
   "metadata": {},
   "outputs": [],
   "source": [
    "publications = pd.DataFrame(data={'title': final.title, 'type': final.type, 'num_authors': final.num_authors,\n",
    "                                 'pages': final.pages, 'citations': final.citations}).drop_duplicates()\n",
    "publications = publications.sort_values('title')\n",
    "publications = pd.DataFrame(data={'pID': range(1,len(publications)+1), 'title': publications.title, \n",
    "                                  'type': publications.type, 'num_authors': publications.num_authors, \n",
    "                                  'pages': publications.pages, 'citations': publications.citations})\n",
    "publications = publications.reset_index(drop=True)"
   ]
  },
  {
   "cell_type": "code",
   "execution_count": 153,
   "id": "6f1ffa31",
   "metadata": {},
   "outputs": [],
   "source": [
    "facts = pd.merge(final,departments,how='left',left_on='institute',right_on='department').drop(['institute',\n",
    "                                                                                               'faculty_x',\n",
    "                                                                                               'faculty_y',\n",
    "                                                                                               'department'],axis=1)\n",
    "facts = pd.merge(facts,dates,how='left',on='date').drop('date',axis=1)\n",
    "facts = pd.merge(facts,years,how='left',on='year').drop('year',axis=1)\n",
    "facts = pd.merge(facts,publications,how='left',on='title').drop(['title','type_x','num_authors_x','pages_x',\n",
    "                                                                 'citations_x','type_y','num_authors_y','pages_y',\n",
    "                                                                 'citations_y'],axis=1)\n",
    "facts = pd.merge(facts,authors,how='left',on=['lastname','firstname']).drop(['lastname','firstname'],axis=1)\n",
    "facts = facts[['pID','aID','depID','dateID','yID','points']]"
   ]
  },
  {
   "cell_type": "code",
   "execution_count": 167,
   "id": "d81e7d1a",
   "metadata": {},
   "outputs": [],
   "source": [
    "publications.to_csv('Data/230122_publications.csv',index=False)\n",
    "authors.to_csv('Data/230122_authors.csv',index=False)\n",
    "years.to_csv('Data/230122_years.csv',index=False)\n",
    "dates.to_csv('Data/230122_dates.csv',index=False)\n",
    "departments.to_csv('Data/230122_departments.csv',index=False)\n",
    "facts.to_csv('Data/230122_facts.csv',index=False)"
   ]
  }
 ],
 "metadata": {
  "kernelspec": {
   "display_name": "Python 3 (ipykernel)",
   "language": "python",
   "name": "python3"
  },
  "language_info": {
   "codemirror_mode": {
    "name": "ipython",
    "version": 3
   },
   "file_extension": ".py",
   "mimetype": "text/x-python",
   "name": "python",
   "nbconvert_exporter": "python",
   "pygments_lexer": "ipython3",
   "version": "3.9.13"
  }
 },
 "nbformat": 4,
 "nbformat_minor": 5
}
