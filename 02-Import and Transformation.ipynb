{
 "cells": [
  {
   "cell_type": "markdown",
   "id": "fdd28201",
   "metadata": {},
   "source": [
    "#### BI1 Mini-Project: UOL_Bibliography"
   ]
  },
  {
   "cell_type": "code",
   "execution_count": 1,
   "id": "a9b3e8ca",
   "metadata": {},
   "outputs": [],
   "source": [
    "import pandas as pd\n",
    "import os\n",
    "import glob\n",
    "import numpy as np\n",
    "import re\n",
    "  "
   ]
  },
  {
   "cell_type": "code",
   "execution_count": 2,
   "id": "16120d33",
   "metadata": {},
   "outputs": [],
   "source": [
    "path = os.getcwd()\n",
    "csv_files = glob.glob(os.path.join(path, \"Data/uol-bibliography-data-2008-2017-raw/\", \"*.csv\"))"
   ]
  },
  {
   "cell_type": "code",
   "execution_count": 3,
   "id": "a1c6beaf",
   "metadata": {},
   "outputs": [
    {
     "name": "stdout",
     "output_type": "stream",
     "text": [
      "Empty DataFrame\n",
      "Columns: [Fach, Autor/in, Titel, Typ, Meldetag, Punktzahl, ZahlOldenburgerAutoren, Jahr, Faculty]\n",
      "Index: []\n"
     ]
    }
   ],
   "source": [
    "df = pd.core.frame.DataFrame(\n",
    "    {\n",
    "        \"Fach\":[],\n",
    "        \"Autor/in\":[],\n",
    "        \"Titel\":[],\n",
    "        \"Typ\":[],\n",
    "        \"Meldetag\":[],\n",
    "        \"Punktzahl\":[],\n",
    "        \"ZahlOldenburgerAutoren\":[],\n",
    "        \"Jahr\":[],\n",
    "        \"Faculty\":[]\n",
    "    })\n",
    "print(df)"
   ]
  },
  {
   "cell_type": "code",
   "execution_count": 4,
   "id": "a9b1439d",
   "metadata": {},
   "outputs": [
    {
     "name": "stdout",
     "output_type": "stream",
     "text": [
      "                                                    Fach            Autor/in  \\\n",
      "0      Fakultät 5 - Mathematik und Naturwissenschafte...  Ahrenholtz, Ingrid   \n",
      "1      Fakultät 5 - Mathematik und Naturwissenschafte...         Ruf, Andrea   \n",
      "2                                   Rechtswissenschaften      Balitzki, Anja   \n",
      "3                                   Rechtswissenschaften      Balitzki, Anja   \n",
      "4                                   Rechtswissenschaften      Balitzki, Anja   \n",
      "...                                                  ...                 ...   \n",
      "56871                                     Stadtforschung      Siebel, Walter   \n",
      "56872                                     Stadtforschung      Siebel, Walter   \n",
      "56873                                     Stadtforschung      Siebel, Walter   \n",
      "56874                                     Stadtforschung       Wehrheim, Jan   \n",
      "56875                                     Stadtforschung       Wehrheim, Jan   \n",
      "\n",
      "                                                   Titel          Typ  \\\n",
      "0      Akzeptanz und Erfolg von zusätzlichen Maßnahme...      Aufsatz   \n",
      "1      Akzeptanz und Erfolg von zusätzlichen Maßnahme...      Aufsatz   \n",
      "2                               Beware of the Dog (6 S.)      Aufsatz   \n",
      "3      Der kartellrechtliche Zwangslizenzeinwand bei ...      Aufsatz   \n",
      "4      Luxusgut Hund? Plädoyer für einen reflektierte...      Aufsatz   \n",
      "...                                                  ...          ...   \n",
      "56871     Kolonialisierung durch das Ästhetische? (4 S.)      Aufsatz   \n",
      "56872                       Polarisierte Städte (351 S.)  Monographie   \n",
      "56873                          Stadtkronenpolitik (6 S.)      Aufsatz   \n",
      "56874  Kriminologie, Sicherheit und die herrschende N...      Aufsatz   \n",
      "56875                      Die überwachte Stadt (254 S.)  Monographie   \n",
      "\n",
      "       Meldetag Punktzahl  ZahlOldenburgerAutoren    Jahr Faculty  \\\n",
      "0      28.04.15      0.75                     NaN  2014.0     NaN   \n",
      "1      28.04.15      0.75                     NaN  2014.0     NaN   \n",
      "2      15.04.13       0.5                     NaN  2012.0       2   \n",
      "3      29.08.12       1.5                     NaN  2012.0       2   \n",
      "4      15.04.13       0.5                     NaN  2012.0       2   \n",
      "...         ...       ...                     ...     ...     ...   \n",
      "56871  13.06.14       1.0                     NaN    2013       1   \n",
      "56872  13.08.13       3.0                     NaN    2013       1   \n",
      "56873  13.06.14       1.0                     NaN    2013       1   \n",
      "56874  16.08.11       1.0                     NaN    2011       1   \n",
      "56875  08.06.12      1.75                     NaN    2012       1   \n",
      "\n",
      "       ZahlOldenburgerAutoren  \n",
      "0                         2.0  \n",
      "1                         2.0  \n",
      "2                         2.0  \n",
      "3                         1.0  \n",
      "4                         2.0  \n",
      "...                       ...  \n",
      "56871                       1  \n",
      "56872                       1  \n",
      "56873                       1  \n",
      "56874                       1  \n",
      "56875                       1  \n",
      "\n",
      "[56876 rows x 10 columns]\n"
     ]
    }
   ],
   "source": [
    "for f in csv_files:\n",
    "    tmp = pd.read_csv(f)\n",
    "    try:\n",
    "        tmp = tmp.assign(Faculty = len(tmp)*re.findall('Fakultt ([1-9])',f))\n",
    "    except:\n",
    "        tmp = tmp.assign(Faculty = len(tmp)*[np.nan])\n",
    "    df = pd.concat([df,tmp],ignore_index=True)\n",
    "print(df)"
   ]
  },
  {
   "cell_type": "code",
   "execution_count": null,
   "id": "e0f785f9",
   "metadata": {},
   "outputs": [],
   "source": []
  }
 ],
 "metadata": {
  "kernelspec": {
   "display_name": "Python 3 (ipykernel)",
   "language": "python",
   "name": "python3"
  },
  "language_info": {
   "codemirror_mode": {
    "name": "ipython",
    "version": 3
   },
   "file_extension": ".py",
   "mimetype": "text/x-python",
   "name": "python",
   "nbconvert_exporter": "python",
   "pygments_lexer": "ipython3",
   "version": "3.9.13"
  }
 },
 "nbformat": 4,
 "nbformat_minor": 5
}
